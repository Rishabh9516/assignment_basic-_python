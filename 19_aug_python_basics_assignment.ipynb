{
 "cells": [
  {
   "cell_type": "code",
   "execution_count": null,
   "id": "b40c783f-58f4-4b9b-8912-751e21280f15",
   "metadata": {},
   "outputs": [],
   "source": [
    "#1. Declare two variables, `x` and `y`, and assign them integer values. Swap the\n",
    "#values of these variables without using any temporary variable."
   ]
  },
  {
   "cell_type": "code",
   "execution_count": 1,
   "id": "6ffe0845-1b58-473f-adf4-9e15053e6985",
   "metadata": {},
   "outputs": [],
   "source": [
    "#by addition and subtraction,swapping of two numbers\n",
    "x=10\n",
    "y=5\n",
    "#code to swap 'x' and 'y'\n",
    "x=x+y      # x becomes 15\n",
    "\n",
    "y=x-y   #y becomes 10\n",
    "\n",
    "x=x-y #x becomes 5\n"
   ]
  },
  {
   "cell_type": "code",
   "execution_count": 2,
   "id": "7890724a-0283-464b-ad9f-193088dd3a0a",
   "metadata": {},
   "outputs": [
    {
     "data": {
      "text/plain": [
       "5"
      ]
     },
     "execution_count": 2,
     "metadata": {},
     "output_type": "execute_result"
    }
   ],
   "source": [
    "x"
   ]
  },
  {
   "cell_type": "code",
   "execution_count": 3,
   "id": "db531941-fc5c-405d-942c-eae3990360b0",
   "metadata": {},
   "outputs": [
    {
     "data": {
      "text/plain": [
       "10"
      ]
     },
     "execution_count": 3,
     "metadata": {},
     "output_type": "execute_result"
    }
   ],
   "source": [
    "y"
   ]
  },
  {
   "cell_type": "code",
   "execution_count": null,
   "id": "12a17c9c-14e8-4969-ae69-c2a1a12bb503",
   "metadata": {},
   "outputs": [],
   "source": [
    "#2. Create a program that calculates the area of a rectangle. Take the length and\n",
    "#width as inputs from the user and store them in variables. Calculate and\n",
    "#display the area."
   ]
  },
  {
   "cell_type": "code",
   "execution_count": 6,
   "id": "cb9e0933-c268-4028-b463-6409da07de58",
   "metadata": {},
   "outputs": [
    {
     "name": "stdin",
     "output_type": "stream",
     "text": [
      "Enter the length of the rectance 5\n",
      "Enetr the width of a rectangle 7\n"
     ]
    },
    {
     "name": "stdout",
     "output_type": "stream",
     "text": [
      "The area of rectangle is  35\n"
     ]
    }
   ],
   "source": [
    "x=int(input(\"Enter the length of the rectance\"))\n",
    "y=int(input(\"Enetr the width of a rectangle\"))\n",
    "area_of_rectangle=x*y\n",
    "print(\"The area of rectangle is \",area_of_rectangle)"
   ]
  },
  {
   "cell_type": "code",
   "execution_count": 7,
   "id": "c26e4f17-92f5-4f33-8add-0256ca4252ae",
   "metadata": {},
   "outputs": [],
   "source": [
    "#3. Write a Python program that converts temperatures from Celsius to\n",
    "#Fahrenheit. Take the temperature in Celsius as input, store it in a variable,\n",
    "#convert it to Fahrenheit, and display the result."
   ]
  },
  {
   "cell_type": "code",
   "execution_count": 9,
   "id": "1ffde180-a400-44f5-b444-e48b72c1083c",
   "metadata": {},
   "outputs": [
    {
     "name": "stdin",
     "output_type": "stream",
     "text": [
      "Enetr the value of temperature in celcius 3\n"
     ]
    },
    {
     "name": "stdout",
     "output_type": "stream",
     "text": [
      "the value of  3 celcius is 38.4  farenhiet\n"
     ]
    }
   ],
   "source": [
    "#taking user input in celcius\n",
    "temp_celcius=int(input(\"Enetr the value of temperature in celcius\"))\n",
    "#calculating it in farenhiet\n",
    "temp_farenhiet=(temp_celcius*1.8)+33\n",
    "print(\"the value of \",temp_celcius,\"celcius is\", temp_farenhiet, \" farenhiet\")"
   ]
  },
  {
   "cell_type": "code",
   "execution_count": 14,
   "id": "35d15de8-7416-4d47-926d-53c9f50a2e00",
   "metadata": {},
   "outputs": [
    {
     "name": "stdin",
     "output_type": "stream",
     "text": [
      "enter the string sudhanshu\n"
     ]
    },
    {
     "name": "stdout",
     "output_type": "stream",
     "text": [
      "the length of the string is 9\n"
     ]
    }
   ],
   "source": [
    "#1. Write a Python program that takes a string as input and prints the length of the string.\n",
    "string=input(\"enter the string\")\n",
    "length_string=len(string)\n",
    "print(\"the length of the string is\",length_string)\n",
    "\n",
    "\n"
   ]
  },
  {
   "cell_type": "code",
   "execution_count": 20,
   "id": "e324673e-dd25-4ec9-930e-de66f0c79df9",
   "metadata": {},
   "outputs": [
    {
     "name": "stdout",
     "output_type": "stream",
     "text": [
      "7\n"
     ]
    }
   ],
   "source": [
    "#2. Create a program that takes a sentence from the user and counts the number\n",
    "#of vowels (a, e, i, o, u) in the string.\n",
    "   \n",
    "string = \"pwskilss is the best course\"\n",
    "vowels = \"aeiouAEIOU\"\n",
    " \n",
    "count = sum(string.count(vowel) for vowel in vowels)\n",
    "print(count)"
   ]
  },
  {
   "cell_type": "code",
   "execution_count": 21,
   "id": "6ee39974-059d-4b87-aa85-01ebba35710b",
   "metadata": {},
   "outputs": [
    {
     "name": "stdout",
     "output_type": "stream",
     "text": [
      "tahbarp\n"
     ]
    }
   ],
   "source": [
    "#3. Given a string, reverse the order of characters using string slicing and print\n",
    "#the reversed string.\n",
    "string=\"prabhat\"\n",
    "\n",
    "reversed_str= string[::-1]\n",
    "print(reversed_str)\n"
   ]
  },
  {
   "cell_type": "code",
   "execution_count": 39,
   "id": "9b524db9-91ea-4888-aa17-e7e6f76ffb4a",
   "metadata": {},
   "outputs": [
    {
     "name": "stdout",
     "output_type": "stream",
     "text": [
      "yes\n"
     ]
    }
   ],
   "source": [
    "#4. Write a program that takes a string as input and checks if it is a palindrome\n",
    "#(reads the same forwards and backwards).\n",
    "x=\"malayalam\" #we have taken a string\n",
    "y=x[::-1]     #reverse the string using slicing concept\n",
    "if x==y:       #checked the condition wether my reversed and orignal string are same or not\n",
    "    print(\"yes\")\n",
    "else:\n",
    "    print(\"no\")\n",
    "    "
   ]
  },
  {
   "cell_type": "code",
   "execution_count": 43,
   "id": "6063c010-bd25-402a-b514-79c4311d9d51",
   "metadata": {},
   "outputs": [
    {
     "name": "stdout",
     "output_type": "stream",
     "text": [
      "sudhanshuuu\n"
     ]
    }
   ],
   "source": [
    "#5. Create a program that takes a string as input and removes all the spaces from\n",
    "#it. Print the modified string without spaces.\n",
    "string_input=\"     sudhanshuuu    \"\n",
    "modified =string_input.strip()\n",
    "print(modified)"
   ]
  },
  {
   "cell_type": "code",
   "execution_count": null,
   "id": "0380e04e-0fbd-440b-8b55-586e82600c1a",
   "metadata": {},
   "outputs": [],
   "source": []
  }
 ],
 "metadata": {
  "kernelspec": {
   "display_name": "Python 3 (ipykernel)",
   "language": "python",
   "name": "python3"
  },
  "language_info": {
   "codemirror_mode": {
    "name": "ipython",
    "version": 3
   },
   "file_extension": ".py",
   "mimetype": "text/x-python",
   "name": "python",
   "nbconvert_exporter": "python",
   "pygments_lexer": "ipython3",
   "version": "3.10.8"
  }
 },
 "nbformat": 4,
 "nbformat_minor": 5
}
